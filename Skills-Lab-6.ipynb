{
 "cells": [
  {
   "cell_type": "code",
   "execution_count": 1,
   "metadata": {},
   "outputs": [
    {
     "name": "stdin",
     "output_type": "stream",
     "text": [
      "What is your name?  ava\n",
      "Enter a number to multiply by 10:  6\n"
     ]
    },
    {
     "name": "stdout",
     "output_type": "stream",
     "text": [
      "Hi ava, 6.0 multiplied by 10 is 60.0.\n"
     ]
    }
   ],
   "source": [
    "# Ask for the user's name\n",
    "name = input(\"What is your name? \")\n",
    "\n",
    "# Ask for a number to perform a calculation with\n",
    "number = input(\"Enter a number to multiply by 10: \")\n",
    "\n",
    "# Convert the input string to a float\n",
    "number = float(number)\n",
    "\n",
    "# Perform the calculation\n",
    "result = number * 10\n",
    "\n",
    "# Print the result with a personalized message\n",
    "print(f\"Hi {name}, {number} multiplied by 10 is {result}.\")"
   ]
  },
  {
   "cell_type": "code",
   "execution_count": null,
   "metadata": {},
   "outputs": [],
   "source": []
  }
 ],
 "metadata": {
  "kernelspec": {
   "display_name": "Python 3",
   "language": "python",
   "name": "python3"
  },
  "language_info": {
   "codemirror_mode": {
    "name": "ipython",
    "version": 3
   },
   "file_extension": ".py",
   "mimetype": "text/x-python",
   "name": "python",
   "nbconvert_exporter": "python",
   "pygments_lexer": "ipython3",
   "version": "3.8.3"
  }
 },
 "nbformat": 4,
 "nbformat_minor": 4
}
