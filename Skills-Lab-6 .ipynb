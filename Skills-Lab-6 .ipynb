{
 "cells": [
  {
   "cell_type": "code",
   "execution_count": 1,
   "metadata": {},
   "outputs": [
    {
     "name": "stdin",
     "output_type": "stream",
     "text": [
      "What is your name?  Ava\n",
      "Enter the length of a rectangle:  80\n",
      "Enter the width of a rectangle:  40\n"
     ]
    },
    {
     "name": "stdout",
     "output_type": "stream",
     "text": [
      "The area of the rectangle (3200.0) is greater than 10.\n"
     ]
    },
    {
     "name": "stdin",
     "output_type": "stream",
     "text": [
      "Enter a list of numbers separated by commas:  1,3,4\n"
     ]
    },
    {
     "name": "stdout",
     "output_type": "stream",
     "text": [
      "Hi Ava, the sum of your numbers is 8.0 and the average is 2.6666666666666665.\n"
     ]
    }
   ],
   "source": [
    "def calculate_area(length, width):\n",
    "    area = length * width\n",
    "    return area\n",
    "\n",
    "name = input(\"What is your name? \")\n",
    "\n",
    "\n",
    "length = float(input(\"Enter the length of a rectangle: \"))\n",
    "width = float(input(\"Enter the width of a rectangle: \"))\n",
    "\n",
    "area = calculate_area(length, width)\n",
    "\n",
    "# Check if the area is greater than 10\n",
    "if area > 10:\n",
    "    print(f\"The area of the rectangle ({area}) is greater than 10.\")\n",
    "else:\n",
    "    print(f\"The area of the rectangle ({area}) is not greater than 10.\")\n",
    "\n",
    "numbers = input(\"Enter a list of numbers separated by commas: \").split(\",\")\n",
    "\n",
    "numbers = [float(num) for num in numbers]\n",
    "\n",
    "total = sum(numbers)\n",
    "average = total / len(numbers)\n",
    "\n",
    "print(f\"Hi {name}, the sum of your numbers is {total} and the average is {average}.\")"
   ]
  },
  {
   "cell_type": "code",
   "execution_count": null,
   "metadata": {},
   "outputs": [],
   "source": []
  }
 ],
 "metadata": {
  "kernelspec": {
   "display_name": "Python 3",
   "language": "python",
   "name": "python3"
  },
  "language_info": {
   "codemirror_mode": {
    "name": "ipython",
    "version": 3
   },
   "file_extension": ".py",
   "mimetype": "text/x-python",
   "name": "python",
   "nbconvert_exporter": "python",
   "pygments_lexer": "ipython3",
   "version": "3.8.3"
  }
 },
 "nbformat": 4,
 "nbformat_minor": 4
}
